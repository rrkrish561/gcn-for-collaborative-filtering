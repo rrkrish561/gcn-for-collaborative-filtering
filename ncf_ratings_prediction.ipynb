{
 "cells": [
  {
   "cell_type": "code",
   "execution_count": 1,
   "metadata": {},
   "outputs": [
    {
     "name": "stdout",
     "output_type": "stream",
     "text": [
      "Processed 10000 lines\n",
      "Processed 20000 lines\n",
      "Processed 30000 lines\n",
      "Processed 40000 lines\n",
      "Processed 50000 lines\n",
      "Processed 60000 lines\n",
      "Processed 70000 lines\n",
      "Processed 80000 lines\n",
      "Processed 90000 lines\n",
      "Processed 100000 lines\n",
      "Processed 110000 lines\n",
      "Processed 120000 lines\n",
      "Processed 130000 lines\n",
      "Processed 140000 lines\n",
      "Processed 150000 lines\n",
      "Processed 160000 lines\n",
      "Processed 170000 lines\n",
      "Processed 180000 lines\n",
      "Processed 190000 lines\n",
      "Number of users: 335\n",
      "Number of items: 8999\n",
      "Number of interactions: 10348\n",
      "Sparsity: 0.9965674461341476\n"
     ]
    },
    {
     "name": "stderr",
     "output_type": "stream",
     "text": [
      "/Users/raghu/Documents/CMU/s24/10708-final-project/preprocess.py:85: FutureWarning: The behavior of DataFrame concatenation with empty or all-NA entries is deprecated. In a future version, this will no longer exclude empty or all-NA columns when determining the result dtypes. To retain the old behavior, exclude the relevant entries before the concat operation.\n",
      "  train_data = pd.concat([train_data, user_data[:split_index]])\n",
      "/Users/raghu/Documents/CMU/s24/10708-final-project/preprocess.py:86: FutureWarning: The behavior of DataFrame concatenation with empty or all-NA entries is deprecated. In a future version, this will no longer exclude empty or all-NA columns when determining the result dtypes. To retain the old behavior, exclude the relevant entries before the concat operation.\n",
      "  test_data = pd.concat([test_data, user_data[split_index:]])\n",
      "/Users/raghu/Documents/CMU/s24/10708-final-project/preprocess.py:94: FutureWarning: The behavior of DataFrame concatenation with empty or all-NA entries is deprecated. In a future version, this will no longer exclude empty or all-NA columns when determining the result dtypes. To retain the old behavior, exclude the relevant entries before the concat operation.\n",
      "  validation_data = pd.concat([validation_data, user_data[:split_index]])\n"
     ]
    },
    {
     "name": "stdout",
     "output_type": "stream",
     "text": [
      "Train data: 8142\n",
      "Validation data: 1010\n",
      "Test data: 1196\n",
      "Train ratings distribution:\n",
      "rating\n",
      "5.0    3405\n",
      "4.0    2903\n",
      "3.0    1125\n",
      "2.0     417\n",
      "1.0     292\n",
      "Name: count, dtype: int64\n",
      "Validation ratings distribution:\n",
      "rating\n",
      "5.0    409\n",
      "4.0    401\n",
      "3.0    119\n",
      "2.0     49\n",
      "1.0     32\n",
      "Name: count, dtype: int64\n",
      "Test ratings distribution:\n",
      "rating\n",
      "5.0    516\n",
      "4.0    445\n",
      "3.0    144\n",
      "2.0     56\n",
      "1.0     35\n",
      "Name: count, dtype: int64\n",
      "Train ratings percentage:\n",
      "rating\n",
      "5.0    0.418202\n",
      "4.0    0.356546\n",
      "3.0    0.138172\n",
      "2.0    0.051216\n",
      "1.0    0.035863\n",
      "Name: proportion, dtype: float64\n",
      "Validation ratings percentage:\n",
      "rating\n",
      "5.0    0.404950\n",
      "4.0    0.397030\n",
      "3.0    0.117822\n",
      "2.0    0.048515\n",
      "1.0    0.031683\n",
      "Name: proportion, dtype: float64\n",
      "Test ratings percentage:\n",
      "rating\n",
      "5.0    0.431438\n",
      "4.0    0.372074\n",
      "3.0    0.120401\n",
      "2.0    0.046823\n",
      "1.0    0.029264\n",
      "Name: proportion, dtype: float64\n"
     ]
    }
   ],
   "source": [
    "from preprocess import *\n",
    "\n",
    "data_path = \"data/epinions.txt\"\n",
    "\n",
    "preprocess(data_path, rating_minimum=20)"
   ]
  },
  {
   "cell_type": "code",
   "execution_count": 5,
   "metadata": {},
   "outputs": [],
   "source": [
    "import pickle\n",
    "import torch\n",
    "from epinions_dataset import EpinionsDataset\n",
    "import pandas as pd\n",
    "from torch.utils.data import DataLoader\n",
    "\n",
    "# Get user to items dictionary from pickle file\n",
    "with open('data/user_to_item.pkl', 'rb') as f:\n",
    "    user_to_items = pickle.load(f)\n",
    "\n",
    "# Get items set from pickle file\n",
    "with open('data/items.pkl', 'rb') as f:\n",
    "    items_set = pickle.load(f)\n",
    "\n",
    "# Create datasets\n",
    "train_df = pd.read_csv('data/train_data_20.csv')\n",
    "val_df = pd.read_csv('data/validation_data_20.csv')\n",
    "test_df = pd.read_csv('data/test_data_20.csv')\n",
    "\n",
    "train_dataset = EpinionsDataset(train_df, user_to_items, items_set)\n",
    "val_dataset = EpinionsDataset(val_df, user_to_items, items_set)\n",
    "test_dataset = EpinionsDataset(test_df, user_to_items, items_set)\n",
    "\n",
    "# create data loaders\n",
    "train_loader = DataLoader(train_dataset, batch_size=64, shuffle=True)\n",
    "val_loader = DataLoader(val_dataset, batch_size=64, shuffle=False)\n",
    "test_loader = DataLoader(test_dataset, batch_size=64, shuffle=False)\n"
   ]
  },
  {
   "cell_type": "code",
   "execution_count": 6,
   "metadata": {},
   "outputs": [],
   "source": [
    "# create a weighted MSE loss function \n",
    "\n",
    "class WeightedMSELoss(torch.nn.Module):\n",
    "    def __init__(self):\n",
    "        super(WeightedMSELoss, self).__init__()\n",
    "\n",
    "        weights = {}\n",
    "\n",
    "        # Get counts for each rating in training dataset \n",
    "        for i in range(1, 6):\n",
    "            weights[float(i)] = len(train_df[train_df['rating'] == i])\n",
    "\n",
    "        # get max count\n",
    "        max_count = max(weights.values())\n",
    "\n",
    "        # calculate weights\n",
    "        for i in range(1, 6):\n",
    "            weights[float(i)] = max_count / weights[i]\n",
    "\n",
    "        self.weights = weights\n",
    "\n",
    "    def forward(self, input, target):\n",
    "        return torch.mean(self.weights[target] * (input - target) ** 2)"
   ]
  },
  {
   "cell_type": "code",
   "execution_count": 7,
   "metadata": {},
   "outputs": [],
   "source": [
    "from tqdm import tqdm\n",
    "\n",
    "def train(model, train_loader, val_loader, epochs, optimizer, criterion):\n",
    "    train_losses = []\n",
    "    val_losses = []\n",
    "\n",
    "    train_accs = []\n",
    "    val_accs = []\n",
    "\n",
    "    for epoch in range(epochs):\n",
    "        model.train()\n",
    "        train_loss = 0\n",
    "        train_accuracy = 0\n",
    "        for i, (user, item, target) in tqdm(enumerate(train_loader), desc=f'Training, Epoch {epoch+1}', total=len(train_loader)):\n",
    "            optimizer.zero_grad()\n",
    "            output = model(user, item)\n",
    "            output = output * 4 + 1\n",
    "\n",
    "            rounded_output = torch.round(output)\n",
    "            train_accuracy += torch.sum(rounded_output == target).item() / target.size(0)\n",
    "\n",
    "            loss = criterion(output, target)\n",
    "            train_loss += loss.item()\n",
    "            loss.backward()\n",
    "            optimizer.step()\n",
    "        train_losses.append(train_loss / len(train_loader))\n",
    "        train_accs.append(train_accuracy / len(train_loader))\n",
    "\n",
    "        model.eval()\n",
    "        val_loss = 0\n",
    "        val_accuracy = 0\n",
    "        for user, item, target in val_loader:\n",
    "            output = model(user, item)\n",
    "\n",
    "            # scale output to be between 1 and 5\n",
    "            output = output * 4 + 1\n",
    "\n",
    "            rounded_output = torch.round(output)\n",
    "            val_accuracy += torch.sum(rounded_output == target).item() / target.size(0)\n",
    "\n",
    "            loss = criterion(output, target)\n",
    "            val_loss += loss.item()\n",
    "        \n",
    "        val_losses.append(val_loss / len(val_loader))\n",
    "        val_accs.append(val_accuracy / len(val_loader))\n",
    "        \n",
    "        print(f'Epoch: {epoch+1}, Train Loss: {train_losses[-1]} Train Accuracy: {train_accs[-1]} | Validation Loss: {val_losses[-1]} Validation Accuracy: {val_accs[-1]}')\n",
    "\n",
    "    return train_losses, val_losses, train_accs, val_accs"
   ]
  },
  {
   "cell_type": "code",
   "execution_count": 13,
   "metadata": {},
   "outputs": [
    {
     "name": "stderr",
     "output_type": "stream",
     "text": [
      "Training, Epoch 1: 100%|██████████| 128/128 [00:06<00:00, 21.11it/s]\n"
     ]
    },
    {
     "name": "stdout",
     "output_type": "stream",
     "text": [
      "Epoch: 1, Train Loss: 1.0991281236056238 Train Accuracy: 0.384033203125 | Validation Loss: 0.9357349574565887 Validation Accuracy: 0.4148046875\n"
     ]
    },
    {
     "name": "stderr",
     "output_type": "stream",
     "text": [
      "Training, Epoch 2: 100%|██████████| 128/128 [00:05<00:00, 22.21it/s]\n"
     ]
    },
    {
     "name": "stdout",
     "output_type": "stream",
     "text": [
      "Epoch: 2, Train Loss: 0.6618033964186907 Train Accuracy: 0.5276750837053571 | Validation Loss: 1.133432775735855 Validation Accuracy: 0.339453125\n"
     ]
    },
    {
     "name": "stderr",
     "output_type": "stream",
     "text": [
      "Training, Epoch 3: 100%|██████████| 128/128 [00:05<00:00, 22.63it/s]\n"
     ]
    },
    {
     "name": "stdout",
     "output_type": "stream",
     "text": [
      "Epoch: 3, Train Loss: 0.5353303111623973 Train Accuracy: 0.6302490234375 | Validation Loss: 1.1064850650727749 Validation Accuracy: 0.4114453125\n"
     ]
    },
    {
     "name": "stderr",
     "output_type": "stream",
     "text": [
      "Training, Epoch 4: 100%|██████████| 128/128 [00:05<00:00, 22.71it/s]\n"
     ]
    },
    {
     "name": "stdout",
     "output_type": "stream",
     "text": [
      "Epoch: 4, Train Loss: 0.38929936953354627 Train Accuracy: 0.7118791852678571 | Validation Loss: 1.083215158432722 Validation Accuracy: 0.3977734375\n"
     ]
    },
    {
     "name": "stderr",
     "output_type": "stream",
     "text": [
      "Training, Epoch 5: 100%|██████████| 128/128 [00:05<00:00, 22.70it/s]\n"
     ]
    },
    {
     "name": "stdout",
     "output_type": "stream",
     "text": [
      "Epoch: 5, Train Loss: 0.26514399392181076 Train Accuracy: 0.7784423828125 | Validation Loss: 1.188957903534174 Validation Accuracy: 0.3535546875\n"
     ]
    },
    {
     "name": "stderr",
     "output_type": "stream",
     "text": [
      "Training, Epoch 6: 100%|██████████| 128/128 [00:05<00:00, 22.65it/s]\n"
     ]
    },
    {
     "name": "stdout",
     "output_type": "stream",
     "text": [
      "Epoch: 6, Train Loss: 0.19991521775955334 Train Accuracy: 0.831787109375 | Validation Loss: 1.2551529370248318 Validation Accuracy: 0.325234375\n"
     ]
    },
    {
     "name": "stderr",
     "output_type": "stream",
     "text": [
      "Training, Epoch 7: 100%|██████████| 128/128 [00:05<00:00, 22.64it/s]\n"
     ]
    },
    {
     "name": "stdout",
     "output_type": "stream",
     "text": [
      "Epoch: 7, Train Loss: 0.17313071322860196 Train Accuracy: 0.8504987444196429 | Validation Loss: 1.2023994214832783 Validation Accuracy: 0.3444921875\n"
     ]
    },
    {
     "name": "stderr",
     "output_type": "stream",
     "text": [
      "Training, Epoch 8: 100%|██████████| 128/128 [00:05<00:00, 22.48it/s]\n"
     ]
    },
    {
     "name": "stdout",
     "output_type": "stream",
     "text": [
      "Epoch: 8, Train Loss: 0.15922219355707057 Train Accuracy: 0.864501953125 | Validation Loss: 1.2273847982287407 Validation Accuracy: 0.349921875\n"
     ]
    },
    {
     "name": "stderr",
     "output_type": "stream",
     "text": [
      "Training, Epoch 9: 100%|██████████| 128/128 [00:05<00:00, 22.59it/s]\n"
     ]
    },
    {
     "name": "stdout",
     "output_type": "stream",
     "text": [
      "Epoch: 9, Train Loss: 0.1454733089194633 Train Accuracy: 0.8754185267857143 | Validation Loss: 1.188383836299181 Validation Accuracy: 0.3697265625\n"
     ]
    },
    {
     "name": "stderr",
     "output_type": "stream",
     "text": [
      "Training, Epoch 10: 100%|██████████| 128/128 [00:05<00:00, 22.65it/s]\n"
     ]
    },
    {
     "name": "stdout",
     "output_type": "stream",
     "text": [
      "Epoch: 10, Train Loss: 0.12801908094843384 Train Accuracy: 0.8875034877232143 | Validation Loss: 1.1830676943063736 Validation Accuracy: 0.3905078125\n"
     ]
    },
    {
     "name": "stderr",
     "output_type": "stream",
     "text": [
      "Training, Epoch 11: 100%|██████████| 128/128 [00:05<00:00, 22.60it/s]\n"
     ]
    },
    {
     "name": "stdout",
     "output_type": "stream",
     "text": [
      "Epoch: 11, Train Loss: 0.1275884527422022 Train Accuracy: 0.8881661551339286 | Validation Loss: 1.2088835760951042 Validation Accuracy: 0.3753125\n"
     ]
    },
    {
     "name": "stderr",
     "output_type": "stream",
     "text": [
      "Training, Epoch 12: 100%|██████████| 128/128 [00:05<00:00, 22.51it/s]\n"
     ]
    },
    {
     "name": "stdout",
     "output_type": "stream",
     "text": [
      "Epoch: 12, Train Loss: 0.12164092864259146 Train Accuracy: 0.8976876395089286 | Validation Loss: 1.3236271254718304 Validation Accuracy: 0.3176953125\n"
     ]
    },
    {
     "name": "stderr",
     "output_type": "stream",
     "text": [
      "Training, Epoch 13: 100%|██████████| 128/128 [00:05<00:00, 22.64it/s]\n"
     ]
    },
    {
     "name": "stdout",
     "output_type": "stream",
     "text": [
      "Epoch: 13, Train Loss: 0.11215613997774199 Train Accuracy: 0.9014718191964286 | Validation Loss: 1.1557610891759396 Validation Accuracy: 0.40390625\n"
     ]
    },
    {
     "name": "stderr",
     "output_type": "stream",
     "text": [
      "Training, Epoch 14: 100%|██████████| 128/128 [00:05<00:00, 22.66it/s]\n"
     ]
    },
    {
     "name": "stdout",
     "output_type": "stream",
     "text": [
      "Epoch: 14, Train Loss: 0.11594742437591776 Train Accuracy: 0.8985246930803571 | Validation Loss: 1.2888498306274414 Validation Accuracy: 0.36734375\n"
     ]
    },
    {
     "name": "stderr",
     "output_type": "stream",
     "text": [
      "Training, Epoch 15: 100%|██████████| 128/128 [00:05<00:00, 22.57it/s]\n"
     ]
    },
    {
     "name": "stdout",
     "output_type": "stream",
     "text": [
      "Epoch: 15, Train Loss: 0.1155636960756965 Train Accuracy: 0.9000069754464286 | Validation Loss: 1.2778188809752464 Validation Accuracy: 0.368203125\n"
     ]
    },
    {
     "name": "stderr",
     "output_type": "stream",
     "text": [
      "Training, Epoch 16: 100%|██████████| 128/128 [00:05<00:00, 22.69it/s]\n"
     ]
    },
    {
     "name": "stdout",
     "output_type": "stream",
     "text": [
      "Epoch: 16, Train Loss: 0.11341785814147443 Train Accuracy: 0.9049072265625 | Validation Loss: 1.2078465446829796 Validation Accuracy: 0.3944140625\n"
     ]
    },
    {
     "name": "stderr",
     "output_type": "stream",
     "text": [
      "Training, Epoch 17: 100%|██████████| 128/128 [00:05<00:00, 22.85it/s]\n"
     ]
    },
    {
     "name": "stdout",
     "output_type": "stream",
     "text": [
      "Epoch: 17, Train Loss: 0.10634610947454348 Train Accuracy: 0.9095458984375 | Validation Loss: 1.2729322910308838 Validation Accuracy: 0.3599609375\n"
     ]
    },
    {
     "name": "stderr",
     "output_type": "stream",
     "text": [
      "Training, Epoch 18: 100%|██████████| 128/128 [00:05<00:00, 22.96it/s]\n"
     ]
    },
    {
     "name": "stdout",
     "output_type": "stream",
     "text": [
      "Epoch: 18, Train Loss: 0.09884799041901715 Train Accuracy: 0.9143415178571429 | Validation Loss: 1.24835741892457 Validation Accuracy: 0.3887109375\n"
     ]
    },
    {
     "name": "stderr",
     "output_type": "stream",
     "text": [
      "Training, Epoch 19: 100%|██████████| 128/128 [00:05<00:00, 23.01it/s]\n"
     ]
    },
    {
     "name": "stdout",
     "output_type": "stream",
     "text": [
      "Epoch: 19, Train Loss: 0.09489003295311704 Train Accuracy: 0.9187534877232143 | Validation Loss: 1.4135019890964031 Validation Accuracy: 0.3528515625\n"
     ]
    },
    {
     "name": "stderr",
     "output_type": "stream",
     "text": [
      "Training, Epoch 20: 100%|██████████| 128/128 [00:05<00:00, 22.95it/s]\n"
     ]
    },
    {
     "name": "stdout",
     "output_type": "stream",
     "text": [
      "Epoch: 20, Train Loss: 0.10124407980765682 Train Accuracy: 0.9140450613839286 | Validation Loss: 1.1771347634494305 Validation Accuracy: 0.411171875\n"
     ]
    }
   ],
   "source": [
    "from ncf import NCF\n",
    "\n",
    "# Create NCF model\n",
    "user_input_dim = len(user_to_items)\n",
    "item_input_dim = len(items_set)\n",
    "hidden_layers = [64, 32]\n",
    "embedding_dim = 1024\n",
    "model = NCF(user_input_dim, item_input_dim, embedding_dim, hidden_layers[0], hidden_layers[1])\n",
    "#criterion = torch.nn.MSELoss()\n",
    "criterion = torch.nn.MSELoss()\n",
    "optimizer = torch.optim.Adam(model.parameters(), lr=0.01)\n",
    "\n",
    "train_losses, val_losses, train_accs, val_accs = train(model, train_loader, val_loader, 20, optimizer, criterion)"
   ]
  },
  {
   "cell_type": "code",
   "execution_count": 14,
   "metadata": {},
   "outputs": [
    {
     "data": {
      "image/png": "[encoded data removed]",
      "text/plain": [
       "<Figure size 640x480 with 1 Axes>"
      ]
     },
     "metadata": {},
     "output_type": "display_data"
    }
   ],
   "source": [
    "import matplotlib.pyplot as plt\n",
    "\n",
    "rms_train_losses = [x ** 0.5 for x in train_losses]\n",
    "rms_val_losses = [x ** 0.5 for x in val_losses]\n",
    "\n",
    "plt.plot(rms_train_losses, label='RMS Training Loss')\n",
    "plt.plot(rms_val_losses, label='RMS Test Loss')\n",
    "plt.xlabel('Epoch')\n",
    "plt.ylabel('RMS Loss')\n",
    "plt.legend()\n",
    "plt.savefig('ratings_prediction_loss.png')\n",
    "\n",
    "plt.clf()\n",
    "\n",
    "plt.plot(train_accs, label='Training Accuracy')\n",
    "plt.plot(val_accs, label='Test Accuracy')\n",
    "plt.xlabel('Epoch')\n",
    "plt.ylabel('Accuracy')\n",
    "plt.legend()\n",
    "plt.savefig('ratings_prediction_accuracy.png')"
   ]
  },
  {
   "cell_type": "code",
   "execution_count": 15,
   "metadata": {},
   "outputs": [
    {
     "name": "stdout",
     "output_type": "stream",
     "text": [
      "Best validation accuracy: 0.4148046875\n",
      "Best validation loss: 0.9673339430913136\n"
     ]
    }
   ],
   "source": [
    "# Best test accuracy\n",
    "best_val_acc = max(val_accs)\n",
    "print(f'Best validation accuracy: {best_val_acc}')\n",
    "\n",
    "# Best test loss\n",
    "best_val_loss = min(rms_val_losses)\n",
    "print(f'Best validation loss: {best_val_loss}')"
   ]
  }
 ],
 "metadata": {
  "kernelspec": {
   "display_name": "Python 3",
   "language": "python",
   "name": "python3"
  },
  "language_info": {
   "codemirror_mode": {
    "name": "ipython",
    "version": 3
   },
   "file_extension": ".py",
   "mimetype": "text/x-python",
   "name": "python",
   "nbconvert_exporter": "python",
   "pygments_lexer": "ipython3",
   "version": "3.9.6"
  }
 },
 "nbformat": 4,
 "nbformat_minor": 2
}
