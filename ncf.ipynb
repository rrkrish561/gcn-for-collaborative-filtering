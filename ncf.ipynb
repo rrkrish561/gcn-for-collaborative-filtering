{
 "cells": [
  {
   "cell_type": "code",
   "execution_count": 1,
   "metadata": {},
   "outputs": [
    {
     "name": "stdout",
     "output_type": "stream",
     "text": [
      "Processed 10000 lines\n",
      "Processed 20000 lines\n",
      "Processed 30000 lines\n",
      "Processed 40000 lines\n",
      "Processed 50000 lines\n",
      "                                                user        item rating\n",
      "0                 Minolta_QMS_PagePro_1250E_Printers      fgb59h    4.0\n",
      "1  Sony_VAIO_PCG_K45_P4_538_3_2GHz_1MB_L2_533MHz_...    bucho_ky    2.0\n",
      "2  Sony_VAIO_PCG_K45_P4_538_3_2GHz_1MB_L2_533MHz_...     redp944    4.0\n",
      "3              pr-Durabrand_CD-85_Personal_CD_Player  spongebag7    4.0\n",
      "4            pr-Sony_KV_36FS12__Standard_Televisions      pyros7    5.0\n",
      "50000\n",
      "Number of users: 38810\n",
      "Number of items: 11525\n"
     ]
    }
   ],
   "source": [
    "from epinions_dataset import EpinionsDataset\n",
    "\n",
    "# Load the dataset\n",
    "dataset = EpinionsDataset(\"data/epinions.txt\", 5000)"
   ]
  },
  {
   "cell_type": "code",
   "execution_count": null,
   "metadata": {},
   "outputs": [],
   "source": []
  }
 ],
 "metadata": {
  "kernelspec": {
   "display_name": "Python 3",
   "language": "python",
   "name": "python3"
  },
  "language_info": {
   "codemirror_mode": {
    "name": "ipython",
    "version": 3
   },
   "file_extension": ".py",
   "mimetype": "text/x-python",
   "name": "python",
   "nbconvert_exporter": "python",
   "pygments_lexer": "ipython3",
   "version": "3.9.6"
  }
 },
 "nbformat": 4,
 "nbformat_minor": 2
}
